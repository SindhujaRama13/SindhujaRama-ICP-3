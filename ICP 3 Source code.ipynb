{
  "nbformat": 4,
  "nbformat_minor": 0,
  "metadata": {
    "colab": {
      "provenance": []
    },
    "kernelspec": {
      "name": "python3",
      "display_name": "Python 3"
    },
    "language_info": {
      "name": "python"
    }
  },
  "cells": [
    {
      "cell_type": "code",
      "execution_count": 1,
      "metadata": {
        "id": "ymONg67BjLIa"
      },
      "outputs": [],
      "source": [
        "import numpy as np\n",
        "\n",
        "# a.\n",
        "# 1.\n",
        "random_vector = np.random.randint(1, 21, size=15)\n",
        "reshaped_array = random_vector.reshape(3, 5)"
      ]
    },
    {
      "cell_type": "code",
      "source": [
        "# 2.\n",
        "print(\"Reshaped array shape:\", reshaped_array.shape)"
      ],
      "metadata": {
        "colab": {
          "base_uri": "https://localhost:8080/"
        },
        "id": "bXv-381VjXeJ",
        "outputId": "6a4fb365-e614-45c6-ae43-c8fe7455cfca"
      },
      "execution_count": 2,
      "outputs": [
        {
          "output_type": "stream",
          "name": "stdout",
          "text": [
            "Reshaped array shape: (3, 5)\n"
          ]
        }
      ]
    },
    {
      "cell_type": "code",
      "source": [
        "# 3.\n",
        "reshaped_array[np.arange(reshaped_array.shape[0]), np.argmax(reshaped_array, axis=1)] = 0\n",
        "print(\"Modified array with max replaced by 0 in each row:\")\n",
        "print(reshaped_array)\n",
        "\n",
        "# Create a 2-dimensional array of size 4 * 3\n",
        "two_dim_array = np.zeros((4, 3), dtype=np.int32)\n",
        "print(\"\\nShape of the 2D array:\", two_dim_array.shape)\n",
        "print(\"Type of elements in the 2D array:\", type(two_dim_array[0, 0]))\n",
        "print(\"Data type of the elements in the 2D array:\", two_dim_array.dtype)"
      ],
      "metadata": {
        "colab": {
          "base_uri": "https://localhost:8080/"
        },
        "id": "HqxKy6iljfsa",
        "outputId": "c843e60f-fdef-41c1-ed1a-86b07d997d56"
      },
      "execution_count": 4,
      "outputs": [
        {
          "output_type": "stream",
          "name": "stdout",
          "text": [
            "Modified array with max replaced by 0 in each row:\n",
            "[[ 0  1  0  5  2]\n",
            " [14  0  0  2 12]\n",
            " [14 13 14  0  0]]\n",
            "\n",
            "Shape of the 2D array: (4, 3)\n",
            "Type of elements in the 2D array: <class 'numpy.int32'>\n",
            "Data type of the elements in the 2D array: int32\n"
          ]
        }
      ]
    },
    {
      "cell_type": "code",
      "source": [
        "# b.\n",
        "square_array = np.array([[1, 3], [0, 2]])\n",
        "eigenvalues, eigenvectors = np.linalg.eig(square_array)\n",
        "print(\"\\nEigenvalues:\", eigenvalues)\n",
        "print(\"Right eigenvectors:\")\n",
        "print(eigenvectors)"
      ],
      "metadata": {
        "colab": {
          "base_uri": "https://localhost:8080/"
        },
        "id": "AZgb98jqjxya",
        "outputId": "75549b40-d353-4b3e-805d-0bd2896a125b"
      },
      "execution_count": 5,
      "outputs": [
        {
          "output_type": "stream",
          "name": "stdout",
          "text": [
            "\n",
            "Eigenvalues: [1. 2.]\n",
            "Right eigenvectors:\n",
            "[[1.         0.9486833 ]\n",
            " [0.         0.31622777]]\n"
          ]
        }
      ]
    },
    {
      "cell_type": "code",
      "source": [
        "\n",
        "# c.\n",
        "given_array = np.array([[1, 2, 3], [0, 2, 0], [0, 0, 3.45]])\n",
        "sum_of_diagonal = np.trace(given_array)\n",
        "print(\"\\nSum of diagonal elements:\", sum_of_diagonal)\n"
      ],
      "metadata": {
        "colab": {
          "base_uri": "https://localhost:8080/"
        },
        "id": "DMra8kfpj4jX",
        "outputId": "f572bd66-2115-4ba7-f7a2-8b1171de7d11"
      },
      "execution_count": 6,
      "outputs": [
        {
          "output_type": "stream",
          "name": "stdout",
          "text": [
            "\n",
            "Sum of diagonal elements: 6.45\n"
          ]
        }
      ]
    },
    {
      "cell_type": "code",
      "source": [
        "# d.\n",
        "import numpy as np\n",
        "\n",
        "array_to_reshape = np.array([1, 3, 4, 1]).reshape(2, 2)\n",
        "print(\"Original 2x2 array:\")\n",
        "print(array_to_reshape)\n",
        "\n",
        "# Reshape to 3x2\n",
        "try:\n",
        "    reshaped_3x2 = np.reshape(array_to_reshape, (3, 2))\n",
        "    print(\"\\nReshaped 3x2 array:\")\n",
        "    print(reshaped_3x2)\n",
        "except ValueError as e:\n",
        "    print(\"\\nValueError occurred while reshaping to 3x2:\", e)\n",
        "\n",
        "# Reshape to 2x3\n",
        "try:\n",
        "    reshaped_2x3 = np.reshape(array_to_reshape, (2, 3))\n",
        "    print(\"\\nReshaped 2x3 array:\")\n",
        "    print(reshaped_2x3)\n",
        "except ValueError as e:\n",
        "    print(\"\\nValueError occurred while reshaping to 2x3:\", e)\n"
      ],
      "metadata": {
        "colab": {
          "base_uri": "https://localhost:8080/"
        },
        "id": "6tLhBKjKjhko",
        "outputId": "bd6987db-ff24-4512-c999-a30fd8880506"
      },
      "execution_count": 9,
      "outputs": [
        {
          "output_type": "stream",
          "name": "stdout",
          "text": [
            "Original 2x2 array:\n",
            "[[1 3]\n",
            " [4 1]]\n",
            "\n",
            "ValueError occurred while reshaping to 3x2: cannot reshape array of size 4 into shape (3,2)\n",
            "\n",
            "ValueError occurred while reshaping to 2x3: cannot reshape array of size 4 into shape (2,3)\n"
          ]
        }
      ]
    }
  ]
}